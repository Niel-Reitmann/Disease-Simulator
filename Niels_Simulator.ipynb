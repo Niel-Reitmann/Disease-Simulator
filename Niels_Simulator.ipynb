{
  "nbformat": 4,
  "nbformat_minor": 0,
  "metadata": {
    "colab": {
      "provenance": [],
      "collapsed_sections": [],
      "include_colab_link": true
    },
    "kernelspec": {
      "name": "python3",
      "display_name": "Python 3"
    }
  },
  "cells": [
    {
      "cell_type": "markdown",
      "metadata": {
        "id": "view-in-github",
        "colab_type": "text"
      },
      "source": [
        "<a href=\"https://colab.research.google.com/github/Niel-Reitmann/Disease-Simulator/blob/main/Niels_Simulator.ipynb\" target=\"_parent\"><img src=\"https://colab.research.google.com/assets/colab-badge.svg\" alt=\"Open In Colab\"/></a>"
      ]
    },
    {
      "cell_type": "code",
      "metadata": {
        "id": "UGI1Pz5Yx_UQ"
      },
      "source": [
        "import random\n",
        "import numpy as np\n",
        "from matplotlib import pyplot as plt"
      ],
      "execution_count": null,
      "outputs": []
    },
    {
      "cell_type": "code",
      "metadata": {
        "id": "dK_JNXGHzGHB"
      },
      "source": [
        "length = 300\n",
        "width = 300\n",
        "population = 100"
      ],
      "execution_count": null,
      "outputs": []
    },
    {
      "cell_type": "code",
      "metadata": {
        "id": "jXRl2eRezOY_"
      },
      "source": [
        "maxspeed = 5\n",
        "accel = 0.8\n",
        "turnrate = 15"
      ],
      "execution_count": null,
      "outputs": []
    },
    {
      "cell_type": "code",
      "metadata": {
        "id": "NWLOx5xV8Gyl"
      },
      "source": [
        "infectionradius = 15\n",
        "infectionprob = 0.05"
      ],
      "execution_count": null,
      "outputs": []
    },
    {
      "cell_type": "code",
      "metadata": {
        "id": "QuMiopigzWb-"
      },
      "source": [
        "def init ():\n",
        "  healthy=[]  #x, y, direction, velocity\n",
        "  infected=[]\n",
        "  for i in range(population-1):\n",
        "    healthy.append([random.uniform(0, length), random.uniform(0, width), random.uniform(0, 360),0])\n",
        "\n",
        "  infected.append([random.uniform(0, length), random.uniform(0, width), random.uniform(0, 360),0])\n",
        "  return healthy, infected\n",
        "\n"
      ],
      "execution_count": null,
      "outputs": []
    },
    {
      "cell_type": "code",
      "metadata": {
        "id": "7guEDYH30KF4"
      },
      "source": [
        "random.seed(1)\n",
        "print(init())"
      ],
      "execution_count": null,
      "outputs": []
    },
    {
      "cell_type": "code",
      "metadata": {
        "id": "HPyWcoU11Ul5"
      },
      "source": [
        "# veocity +- accel -accel\n",
        "# crop velocity \n",
        "#turn -turnrate, turnrate\n",
        "#crop direction\n",
        "#move the person \n",
        "#constrain to enviroment\n",
        "\n",
        "def move(subject):\n",
        "  moved=[]\n",
        "  for i in subject:\n",
        "    velocity = i[3] + random.uniform(-accel, accel)\n",
        "    if velocity>maxspeed:\n",
        "      velocity=maxspeed\n",
        "    if velocity<0:\n",
        "      velocity=0\n",
        "\n",
        "    angle = (i[2] + random.uniform(-turnrate,turnrate))%360\n",
        "    \n",
        "    xVelocity = velocity * np.sin(np.deg2rad(angle))\n",
        "    yVelocity = velocity * np.cos(np.deg2rad(angle))\n",
        "\n",
        "    x = (i[0] + xVelocity)%length  #x, y, direction, velocity\n",
        "    y = (i[1] + yVelocity)%width\n",
        "\n",
        "    moved.append([x,y,angle,velocity]) #x_position, y_position, direction, velocity\n",
        "\n",
        "  return moved\n",
        "    \n",
        "\n",
        "\n"
      ],
      "execution_count": null,
      "outputs": []
    },
    {
      "cell_type": "code",
      "metadata": {
        "id": "a3zzYxQH95Aa"
      },
      "source": [
        "def distance(a, b):\n",
        "  return np.sqrt((a[0]-b[0])**2+(a[1]-b[1])**2)"
      ],
      "execution_count": null,
      "outputs": []
    },
    {
      "cell_type": "code",
      "metadata": {
        "id": "UnCGMge28O3i"
      },
      "source": [
        "def infect(good, bad):\n",
        "  ngood = good.copy()\n",
        "  nbad = bad.copy()\n",
        "  for b in nbad:\n",
        "    for n in ngood:\n",
        "      if distance(b, n) <= infectionradius:\n",
        "        if random.random() < infectionprob:\n",
        "          nbad.append(n)\n",
        "          ngood.remove(n)\n",
        "\n",
        "  return ngood, nbad\n"
      ],
      "execution_count": null,
      "outputs": []
    },
    {
      "cell_type": "code",
      "metadata": {
        "id": "S5Mgadv6_T47"
      },
      "source": [
        "def step(healthy, sick):\n",
        "  nhealthy = healthy.copy()\n",
        "  nsick = sick.copy()\n",
        "  nhealthy = move(nhealthy)\n",
        "  nsick = move(nsick)\n",
        "  nhealthy, nsick = infect(nhealthy, nsick)\n",
        "  return nhealthy, nsick"
      ],
      "execution_count": null,
      "outputs": []
    },
    {
      "cell_type": "code",
      "metadata": {
        "id": "Ced11BeQAwoB"
      },
      "source": [
        "def format (subject):\n",
        "  x =[]\n",
        "  y =[]\n",
        "  for i in subject:\n",
        "    x.append(i[0])\n",
        "    y.append(i[1])\n",
        "\n",
        "  return (x,y)\n"
      ],
      "execution_count": null,
      "outputs": []
    },
    {
      "cell_type": "code",
      "metadata": {
        "id": "xOUk1PFjAPNJ"
      },
      "source": [
        "def render(xr, yr, xb, yb, name):\n",
        "  plt.clf()\n",
        "  plt.plot(xr,yr, \"r.\")\n",
        "  plt.plot(xb,yb, \"b.\")\n",
        "  plt.xlim(0, length)\n",
        "  plt.ylim(0, width)\n",
        "  plt.savefig(\"/content/Figures/\" + name + \".png\")\n",
        "  "
      ],
      "execution_count": null,
      "outputs": []
    },
    {
      "cell_type": "code",
      "metadata": {
        "id": "otcfFp-eBaSE"
      },
      "source": [
        "healthy, sick = init()\n",
        "numhealthy = [len(healthy)]\n",
        "numsick = [len(sick)]\n",
        "\n",
        "i = 0\n",
        "while len(healthy) > 0 and i < 1000:\n",
        "  healthy, sick = step(healthy, sick)\n",
        "  numhealthy.append(len(healthy))\n",
        "  numsick.append(len(sick))\n",
        "  xr, yr = format(sick) #so they can be plotted easy\n",
        "  xb, yb = format(healthy)\n",
        "  render(xr, yr, xb, yb, str(i))\n",
        "  i += 1\n",
        "  print(len(healthy))\n",
        "  print(len(sick))\n",
        "\n",
        "\n"
      ],
      "execution_count": null,
      "outputs": []
    },
    {
      "cell_type": "code",
      "metadata": {
        "id": "L3VGVA2hD-6G"
      },
      "source": [
        "!zip -r /content/Figs.zip /content/Figures"
      ],
      "execution_count": null,
      "outputs": []
    }
  ]
}